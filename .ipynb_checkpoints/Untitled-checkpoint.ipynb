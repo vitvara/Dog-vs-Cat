{
 "cells": [
  {
   "cell_type": "code",
   "execution_count": 14,
   "id": "c52c714c",
   "metadata": {},
   "outputs": [],
   "source": [
    "import PyPDF2\n",
    "import codecs"
   ]
  },
  {
   "cell_type": "code",
   "execution_count": 20,
   "id": "e50f9b0a",
   "metadata": {},
   "outputs": [],
   "source": [
    "pdfFileObj = open(\"214_GA-portfolio all_2021-03-02.pdf\", 'rb')\n"
   ]
  },
  {
   "cell_type": "code",
   "execution_count": 21,
   "id": "e07843ae",
   "metadata": {},
   "outputs": [],
   "source": [
    "pdfReader = PyPDF2.PdfFileReader(pdfFileObj)\n"
   ]
  },
  {
   "cell_type": "code",
   "execution_count": 22,
   "id": "0352ac6c",
   "metadata": {},
   "outputs": [
    {
     "name": "stdout",
     "output_type": "stream",
     "text": [
      "57\n"
     ]
    }
   ],
   "source": [
    "print(pdfReader.numPages)\n",
    "  "
   ]
  },
  {
   "cell_type": "code",
   "execution_count": 23,
   "id": "54e44182",
   "metadata": {},
   "outputs": [],
   "source": [
    "pageObj = pdfReader.getPage(1)"
   ]
  },
  {
   "cell_type": "code",
   "execution_count": 25,
   "id": "5b32ebbf",
   "metadata": {},
   "outputs": [
    {
     "name": "stdout",
     "output_type": "stream",
     "text": [
      "ผลงานป4LSv7ฏช2.g@w3 พ.ศ.รายละเอียดโครงการ:\n",
      "เจ4LSv7ฏิไ.g@w(าของโครงการ : บริษัท วิศวกรรมที่ปรึกษา หนึ่งแปด จํากัด \n",
      "ลักษณะงาน : งานออกแบบอาคาร \n",
      "พื้นที่ : 320 ตร.ม (ขนาด 2 ชั้น)\n",
      "ราคาค4LSv7ฏิบ.g@w(าก4LSv7ฏิบ.g@w(อสร4LSv7ฏิไ.g@w(าง : 7,00,000 บาท \n",
      "ป4LSv7ฏช2.g@w3ที่แล4LSv7ฏิไ.g@w(วเสร็จ : 2564\n",
      "ลักษณะโครงสร4LSv7ฏิไ.g@w(าง : โครงสร็uniไxญฉลๆltูางเหล็ก \n",
      "วัสดุตกแต4LSv7ฏิบ.g@w(ง : ไม็uniไxญฉลๆltูเทียม , อลูมิเนียม , กระจก \n",
      "64\n",
      "อ า ค า ร สํา นั ก ง า น ใ ห ญ4LSv7ฏิบ.g@w(\n",
      "ซ . ง า ม ว ง ศ4LSv7ฏิธ.g@w( ว า น  4 7  แ ย ก  3  ( ชิ น เ ข ต  2 / 3 )  แ ข ว ง ทุ4LSv7ฏิบ.g@w( ง ส อ ง ห4LSv7ฏิไ.g@w( อ ง  เ ข ต ห ลั ก สี่  ก ท ม .\n",
      "\n"
     ]
    }
   ],
   "source": [
    "print(pageObj.extractText())"
   ]
  },
  {
   "cell_type": "code",
   "execution_count": null,
   "id": "35e21d93",
   "metadata": {},
   "outputs": [],
   "source": []
  }
 ],
 "metadata": {
  "kernelspec": {
   "display_name": "Python 3 (ipykernel)",
   "language": "python",
   "name": "python3"
  },
  "language_info": {
   "codemirror_mode": {
    "name": "ipython",
    "version": 3
   },
   "file_extension": ".py",
   "mimetype": "text/x-python",
   "name": "python",
   "nbconvert_exporter": "python",
   "pygments_lexer": "ipython3",
   "version": "3.10.6"
  }
 },
 "nbformat": 4,
 "nbformat_minor": 5
}
